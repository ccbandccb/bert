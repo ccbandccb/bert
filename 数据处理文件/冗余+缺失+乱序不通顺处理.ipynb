{
 "cells": [
  {
   "attachments": {},
   "cell_type": "markdown",
   "metadata": {},
   "source": [
    "冗余：在句子序列中随机选取一个字词并重写一次这个字词接在后面\n",
    "\n",
    "缺失：在句子序列中随机选取一个字词并删去这个字词\n",
    "\n",
    "乱序：在句子序列中随机选取两个相邻的字词调换顺序"
   ]
  },
  {
   "attachments": {},
   "cell_type": "markdown",
   "metadata": {},
   "source": [
    "总体思路为先对句子进行切分，随机返回一个汉字字词，再进行不同的操作。\n",
    "\n",
    "切分包括对句子进行中文分词和直接单字切分，但由于分词中也可能出现单字的情况，所以这里可能出现一些混淆。"
   ]
  },
  {
   "cell_type": "code",
   "execution_count": 3,
   "metadata": {},
   "outputs": [],
   "source": [
    "# 导入\n",
    "import jieba\n",
    "import random"
   ]
  },
  {
   "attachments": {},
   "cell_type": "markdown",
   "metadata": {},
   "source": [
    "### 1.冗余"
   ]
  },
  {
   "cell_type": "code",
   "execution_count": 2,
   "metadata": {},
   "outputs": [],
   "source": [
    "def repeat(sentence):\n",
    "    seg_gen = jieba.cut(sentence, cut_all=False) # 分词\n",
    "    seg_list=('/'.join(seg_gen)).split('/')\n",
    "    punctuation=['，','。','：','？','！','“','”','（','）','、']\n",
    "    word=random.choice(seg_list) # 随即返回一个汉字字词\n",
    "    while word in punctuation: # 不可以返回标点符号\n",
    "        word=random.choice(seg_list)\n",
    "    location=seg_list.index(word) # 寻找该字词在列表中的索引\n",
    "    seg_list.insert(location+1,word) # 插入字词造成冗余\n",
    "    repeat_result=''.join(seg_list) # 将字词列表拼接为句子\n",
    "    return repeat_result\n"
   ]
  },
  {
   "cell_type": "code",
   "execution_count": 4,
   "metadata": {},
   "outputs": [
    {
     "data": {
      "text/plain": [
       "'到场的几位冠军运动员此前没有接触过高尔夫，现场的气氛感染着她们第一次握起高尔夫球高尔夫球杆'"
      ]
     },
     "execution_count": 4,
     "metadata": {},
     "output_type": "execute_result"
    }
   ],
   "source": [
    "# test \n",
    "sentence='到场的几位冠军运动员此前没有接触过高尔夫，现场的气氛感染着她们第一次握起高尔夫球杆'\n",
    "repeat(sentence)"
   ]
  },
  {
   "cell_type": "code",
   "execution_count": 29,
   "metadata": {},
   "outputs": [
    {
     "name": "stdout",
     "output_type": "stream",
     "text": [
      "输出成功....\n"
     ]
    }
   ],
   "source": [
    "with open(r'C:\\Users\\lenovo\\Desktop\\词啰嗦.txt','r',encoding = 'utf-8') as fr,open(r'C:\\Users\\lenovo\\Desktop\\词啰嗦 - 副本.txt','w',encoding = 'utf-8') as fd:\n",
    "    for row in fr.readlines():\n",
    "        text=row[10:len(row)-19]\n",
    "        result=repeat(text)\n",
    "        output='{\\'通顺'+'\\''+':'+text+','+'\\'不通顺'+'\\''+':'+result+'}'\n",
    "        fd.write(output+'\\n')\n",
    "    print('输出成功....')"
   ]
  },
  {
   "cell_type": "code",
   "execution_count": 5,
   "metadata": {},
   "outputs": [],
   "source": [
    "# 单字冗余\n",
    "def repeat_zi(sentence):\n",
    "    list=[]\n",
    "    for ch in sentence:\n",
    "        list.append(ch)\n",
    "    punctuation=['，','。','：','？','！','“','”','（','）','、']\n",
    "    word=random.choice(list) \n",
    "    while word in punctuation: \n",
    "        word=random.choice(list)\n",
    "    location=list.index(word) \n",
    "    list.insert(location+1,word) \n",
    "    repeat_result=''.join(list) \n",
    "    return repeat_result"
   ]
  },
  {
   "cell_type": "code",
   "execution_count": 6,
   "metadata": {},
   "outputs": [
    {
     "name": "stdout",
     "output_type": "stream",
     "text": [
      "{'通顺':到场的几位冠军运动员此前没有接触过高尔夫，现场的气氛感染着她们第一次握起高尔夫球杆,'不通顺':到场的几位冠军运动员此前没有接触过高尔夫，现场的气氛感染着着她们第一次握起高尔夫球杆}\n"
     ]
    }
   ],
   "source": [
    "# test\n",
    "sentence='到场的几位冠军运动员此前没有接触过高尔夫，现场的气氛感染着她们第一次握起高尔夫球杆'\n",
    "result=repeat_zi(sentence)\n",
    "output='{\\'通顺'+'\\''+':'+sentence+','+'\\'不通顺'+'\\''+':'+result+'}'\n",
    "print(output)"
   ]
  },
  {
   "cell_type": "code",
   "execution_count": 27,
   "metadata": {},
   "outputs": [
    {
     "name": "stdout",
     "output_type": "stream",
     "text": [
      "输出成功....\n"
     ]
    }
   ],
   "source": [
    "with open(r'C:\\Users\\lenovo\\Desktop\\字重复不通顺.txt','r',encoding = 'utf-8') as fr,open(r'C:\\Users\\lenovo\\Desktop\\字重复不通顺 - 副本.txt','w',encoding = 'utf-8') as fd:\n",
    "    for row in fr.readlines():\n",
    "        text=row[10:len(row)-19]\n",
    "        result=repeat_zi(text)\n",
    "        output='{\\'通顺'+'\\''+':'+text+','+'\\'不通顺'+'\\''+':'+result+'}'\n",
    "        fd.write(output+'\\n')\n",
    "    print('输出成功....')"
   ]
  },
  {
   "attachments": {},
   "cell_type": "markdown",
   "metadata": {},
   "source": [
    "### 2.缺失"
   ]
  },
  {
   "cell_type": "code",
   "execution_count": 7,
   "metadata": {},
   "outputs": [],
   "source": [
    "def remove(sentence):\n",
    "    seg_gen = jieba.cut(sentence, cut_all=False)\n",
    "    seg_list=('/'.join(seg_gen)).split('/')\n",
    "    punctuation=['，','。','：','？','！','“','”','（','）','、']\n",
    "    word=random.choice(seg_list) \n",
    "    while word in punctuation: \n",
    "        word=random.choice(seg_list)\n",
    "    location=seg_list.index(word) \n",
    "    seg_list.pop(location) # 删除这个位置的字词\n",
    "    remove_result=''.join(seg_list)\n",
    "    return remove_result"
   ]
  },
  {
   "cell_type": "code",
   "execution_count": 8,
   "metadata": {},
   "outputs": [
    {
     "data": {
      "text/plain": [
       "'到场的几位冠军运动员此前没有接触过高尔夫，现场的气氛感染着她们握起高尔夫球杆'"
      ]
     },
     "execution_count": 8,
     "metadata": {},
     "output_type": "execute_result"
    }
   ],
   "source": [
    "# test\n",
    "sentence='到场的几位冠军运动员此前没有接触过高尔夫，现场的气氛感染着她们第一次握起高尔夫球杆'\n",
    "remove(sentence)"
   ]
  },
  {
   "cell_type": "code",
   "execution_count": null,
   "metadata": {},
   "outputs": [],
   "source": [
    "with open(r'C:\\Users\\lenovo\\Desktop\\缺失.txt','r',encoding = 'utf-8') as fr,open(r'C:\\Users\\lenovo\\Desktop\\缺失 - 副本.txt','w',encoding = 'utf-8') as fd:\n",
    "    for row in fr.readlines():\n",
    "        text=remove(row[10:len(row)-19])\n",
    "        result='{\"text\": \"'+text+'\", \"target\": \"不通顺\"}'\n",
    "        fd.write(result+'\\n')\n",
    "    print('输出成功....')"
   ]
  },
  {
   "cell_type": "code",
   "execution_count": 1,
   "metadata": {},
   "outputs": [],
   "source": [
    "# 单字缺失\n",
    "def remove_zi(sentence):\n",
    "    list=[]\n",
    "    for ch in sentence:\n",
    "        list.append(ch)\n",
    "    punctuation=['，','。','：','？','！','“','”','（','）','、']\n",
    "    word=random.choice(list) \n",
    "    while word in punctuation: \n",
    "        word=random.choice(list)\n",
    "    location=list.index(word) \n",
    "    list.pop(location) # 删除这个位置的字\n",
    "    remove_result=''.join(list)\n",
    "    return remove_result\n"
   ]
  },
  {
   "cell_type": "code",
   "execution_count": 4,
   "metadata": {},
   "outputs": [
    {
     "data": {
      "text/plain": [
       "'到场的位冠军运动员此前没有接触过高尔夫，现场的气氛感染着她们第一次握起高尔夫球杆'"
      ]
     },
     "execution_count": 4,
     "metadata": {},
     "output_type": "execute_result"
    }
   ],
   "source": [
    "# test\n",
    "sentence='到场的几位冠军运动员此前没有接触过高尔夫，现场的气氛感染着她们第一次握起高尔夫球杆'\n",
    "remove_zi(sentence)"
   ]
  },
  {
   "cell_type": "code",
   "execution_count": 32,
   "metadata": {},
   "outputs": [
    {
     "name": "stdout",
     "output_type": "stream",
     "text": [
      "输出成功....\n"
     ]
    }
   ],
   "source": [
    "with open(r'C:\\Users\\lenovo\\Desktop\\缺字不通顺.txt','r',encoding = 'utf-8') as fr,open(r'C:\\Users\\lenovo\\Desktop\\缺字不通顺 - 副本.txt','w',encoding = 'utf-8') as fd:\n",
    "    for row in fr.readlines():\n",
    "        text=row[10:len(row)-19]\n",
    "        result=remove_zi(text)\n",
    "        output='{\\'通顺'+'\\''+':'+text+','+'\\'不通顺'+'\\''+':'+result+'}'\n",
    "        fd.write(output+'\\n')\n",
    "    print('输出成功....')"
   ]
  },
  {
   "attachments": {},
   "cell_type": "markdown",
   "metadata": {},
   "source": [
    "### 3.乱序"
   ]
  },
  {
   "cell_type": "code",
   "execution_count": 5,
   "metadata": {},
   "outputs": [],
   "source": [
    "def break_order(sentence):\n",
    "    seg_gen = jieba.cut(sentence, cut_all=False)\n",
    "    seg_list=('/'.join(seg_gen)).split('/')\n",
    "    punctuation=['，','。','：','？','！','“','”','（','）','、']\n",
    "    word=random.choice(seg_list) \n",
    "    while word in punctuation: \n",
    "        word=random.choice(seg_list)\n",
    "    location=seg_list.index(word) \n",
    "    if location<len(seg_list)-1: # 调换这个字词与后一个字词的顺序\n",
    "        seg_list.pop(location)\n",
    "        seg_list.insert(location+1,word)\n",
    "    else: # 如果返回最后一个字词，调换这个字词和前一个字词的顺序\n",
    "        seg_list.pop(location)\n",
    "        seg_list.insert(location-1,word) \n",
    "    break_result=''.join(seg_list)\n",
    "    return break_result"
   ]
  },
  {
   "cell_type": "code",
   "execution_count": 7,
   "metadata": {},
   "outputs": [
    {
     "data": {
      "text/plain": [
       "'到场的几位冠军运动员此前没有接触过高尔夫，的现场气氛感染着她们第一次握起高尔夫球杆'"
      ]
     },
     "execution_count": 7,
     "metadata": {},
     "output_type": "execute_result"
    }
   ],
   "source": [
    "# test\n",
    "sentence='到场的几位冠军运动员此前没有接触过高尔夫，现场的气氛感染着她们第一次握起高尔夫球杆'\n",
    "break_order(sentence)"
   ]
  },
  {
   "cell_type": "code",
   "execution_count": 51,
   "metadata": {},
   "outputs": [
    {
     "name": "stdout",
     "output_type": "stream",
     "text": [
      "输出成功....\n"
     ]
    }
   ],
   "source": [
    "with open(r'C:\\Users\\lenovo\\Desktop\\乱序.txt','r',encoding = 'utf-8') as fr,open(r'C:\\Users\\lenovo\\Desktop\\乱序 - 副本.txt','w',encoding = 'utf-8') as fd:\n",
    "    for row in fr.readlines():\n",
    "        text=break_order(row[10:len(row)-19])\n",
    "        result='{\"text\": \"'+text+'\", \"target\": \"不通顺\"}'\n",
    "        fd.write(result+'\\n')\n",
    "    print('输出成功....')"
   ]
  },
  {
   "cell_type": "code",
   "execution_count": 8,
   "metadata": {},
   "outputs": [],
   "source": [
    "# 单字乱序\n",
    "def break_zi(sentence):\n",
    "    list=[]\n",
    "    for ch in sentence:\n",
    "        list.append(ch)\n",
    "    punctuation=['，','。','：','？','！','“','”','（','）','、']\n",
    "    word=random.choice(list) \n",
    "    while word in punctuation: \n",
    "        word=random.choice(list)\n",
    "    location=list.index(word) \n",
    "    if location<len(list)-1: \n",
    "        list.pop(location)\n",
    "        list.insert(location+1,word)\n",
    "    else: \n",
    "        list.pop(location)\n",
    "        list.insert(location-1,word) \n",
    "    break_result=''.join(list)\n",
    "    return break_result"
   ]
  },
  {
   "cell_type": "code",
   "execution_count": 9,
   "metadata": {},
   "outputs": [
    {
     "data": {
      "text/plain": [
       "'到场的位几冠军运动员此前没有接触过高尔夫，现场的气氛感染着她们第一次握起高尔夫球杆'"
      ]
     },
     "execution_count": 9,
     "metadata": {},
     "output_type": "execute_result"
    }
   ],
   "source": [
    "# test\n",
    "sentence='到场的几位冠军运动员此前没有接触过高尔夫，现场的气氛感染着她们第一次握起高尔夫球杆'\n",
    "break_zi(sentence)"
   ]
  }
 ],
 "metadata": {
  "kernelspec": {
   "display_name": "base",
   "language": "python",
   "name": "python3"
  },
  "language_info": {
   "codemirror_mode": {
    "name": "ipython",
    "version": 3
   },
   "file_extension": ".py",
   "mimetype": "text/x-python",
   "name": "python",
   "nbconvert_exporter": "python",
   "pygments_lexer": "ipython3",
   "version": "3.9.12"
  },
  "orig_nbformat": 4,
  "vscode": {
   "interpreter": {
    "hash": "a71a9e4fb054fff428071484f7faa898cb9ecb31a518fe88e3463da9af879578"
   }
  }
 },
 "nbformat": 4,
 "nbformat_minor": 2
}
