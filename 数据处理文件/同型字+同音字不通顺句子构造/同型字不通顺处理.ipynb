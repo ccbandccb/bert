{
 "cells": [
  {
   "attachments": {},
   "cell_type": "markdown",
   "metadata": {},
   "source": [
    "# 替换同型字"
   ]
  },
  {
   "cell_type": "markdown",
   "metadata": {},
   "source": [
    "@author 何俊傑"
   ]
  },
  {
   "cell_type": "code",
   "execution_count": 1,
   "metadata": {},
   "outputs": [],
   "source": [
    "from tqdm import tqdm\n",
    "import random #随机抽取用"
   ]
  },
  {
   "attachments": {},
   "cell_type": "markdown",
   "metadata": {},
   "source": [
    "## 三、开发替换功能"
   ]
  },
  {
   "cell_type": "markdown",
   "metadata": {},
   "source": [
    "### 3.字级别的形近替换"
   ]
  },
  {
   "attachments": {},
   "cell_type": "markdown",
   "metadata": {},
   "source": [
    "step1. 开发具体函数 get_shape_relavant，使得可以输入字后输出同形字列表"
   ]
  },
  {
   "cell_type": "code",
   "execution_count": 2,
   "metadata": {},
   "outputs": [],
   "source": [
    "def read_from_charactorfile(f): ###对read_from_file做小小改动\n",
    "    \"\"\"从文件f中读取内容，并返回每一行对应的拼音和对应词，假设文件的编码是utf-8编码\"\"\"\n",
    "    content = ''\n",
    "    with open(f, 'r', encoding='utf-8') as f:\n",
    "        content = f.readlines()    \n",
    "    homophones = [line.split(' ') for line in content] #先把所有词读进来\n",
    "    \n",
    "    for line in homophones: #把换行符去掉的循环\n",
    "        if line[-1][-1]=='\\n':\n",
    "            line[-1]=line[-1][:-1]\n",
    "    ###主要改动在这行的‘list(set(line[1:][0]))’，保证了输出格式仍保持为key<字符>: value<字符集合>\n",
    "    homophones = {line[0]: list(set(line[1:][0])) for line in homophones}        \n",
    "    return homophones"
   ]
  },
  {
   "cell_type": "code",
   "execution_count": 3,
   "metadata": {},
   "outputs": [],
   "source": [
    "###输入字，便可输出同形字集\n",
    "def get_shape_relavant(charactor, shape_dict=read_from_charactorfile('./形近字语料库.txt')):\n",
    "    \"\"\"输入一个单字，可以输出其同形字列表。若词库中没有此词，便输出'no match word'\"\"\"\n",
    "    msg = ''\n",
    "    \n",
    "    try:\n",
    "        charactors = shape_dict[charactor]\n",
    "        if len(charactors)==0:\n",
    "            msg = 'no relavant charactor' #如果形近字集合数量为0，便输出'no relavant charactor'\n",
    "            return msg\n",
    "        elif charactor in charactors:\n",
    "            charactors.remove(charactor)\n",
    "            charactors = charactors[:10] #只输出前十个同形字，减少词库压力\n",
    "\n",
    "    except KeyError:\n",
    "        msg = 'no match charactor' #如果词库中没有此词语，便输出'no match word'\n",
    "    \n",
    "    if msg!='':\n",
    "        return msg\n",
    "    else:\n",
    "        return charactors"
   ]
  },
  {
   "cell_type": "code",
   "execution_count": 4,
   "metadata": {},
   "outputs": [
    {
     "data": {
      "text/plain": [
       "(['吩', '吟'], ['耍', '覃', '要', '雯'], 'no relavant charactor')"
      ]
     },
     "execution_count": 4,
     "metadata": {},
     "output_type": "execute_result"
    }
   ],
   "source": [
    "shape_relevant = read_from_charactorfile('./形近字语料库.txt')\n",
    "\n",
    "get_shape_relavant('吖'), get_shape_relavant('夏'), get_shape_relavant('天')"
   ]
  },
  {
   "attachments": {},
   "cell_type": "markdown",
   "metadata": {},
   "source": [
    "step2. 开发具体函数charactor_relavant_shape_replace，在输入句子后输出替换同形字后的结果"
   ]
  },
  {
   "cell_type": "code",
   "execution_count": 5,
   "metadata": {},
   "outputs": [],
   "source": [
    "def charactor_relavant_shape_replace(sentence, relavant_shapes=read_from_charactorfile('./形近字语料库.txt')):\n",
    "    sentence_tobechanged = list(sentence)\n",
    "    for i in range(100):\n",
    "        random_index = random.choice(range(len(sentence_tobechanged)))\n",
    "        charactor = sentence[random_index]\n",
    "        relavent_shape_charactors = get_shape_relavant(charactor, relavant_shapes) #获取同形字集合\n",
    "        msg = type(relavent_shape_charactors)==list #判断函数返回的是不是同型字列表\n",
    "        \n",
    "        if msg:\n",
    "            relavent_shape_charactor = random.choice(relavent_shape_charactors)\n",
    "            sentence_tobechanged[random_index] = relavent_shape_charactor\n",
    "            sentence_changed = \"\".join(sentence_tobechanged)\n",
    "            return sentence_changed\n",
    "        else:\n",
    "            continue"
   ]
  },
  {
   "cell_type": "code",
   "execution_count": 6,
   "metadata": {},
   "outputs": [
    {
     "data": {
      "text/plain": [
       "'宋代定密瓷器常见的器型以碗、盘、瓶'"
      ]
     },
     "execution_count": 6,
     "metadata": {},
     "output_type": "execute_result"
    }
   ],
   "source": [
    "sentence = '宋代定窑瓷器常见的器型以碗、盘、瓶'\n",
    "charactor_relavant_shape_replace(sentence, shape_relevant)"
   ]
  },
  {
   "attachments": {},
   "cell_type": "markdown",
   "metadata": {},
   "source": [
    "## 处理文本"
   ]
  },
  {
   "cell_type": "code",
   "execution_count": 7,
   "metadata": {},
   "outputs": [],
   "source": [
    "def read_json_txt(path):\n",
    "    result=[]\n",
    "    import json\n",
    "    with open(path, 'r',encoding='utf-8') as f:\n",
    "        lines = f.readlines()\n",
    "    for line in tqdm(lines):\n",
    "        try:\n",
    "            result.append(json.loads(line))\n",
    "        except:\n",
    "            continue\n",
    "        \n",
    "    return result"
   ]
  },
  {
   "cell_type": "code",
   "execution_count": 8,
   "metadata": {},
   "outputs": [
    {
     "name": "stderr",
     "output_type": "stream",
     "text": [
      "100%|██████████| 199395/199395 [00:00<00:00, 260821.30it/s]\n",
      "100%|██████████| 199395/199395 [00:01<00:00, 116495.01it/s]\n",
      "100%|██████████| 199395/199395 [00:01<00:00, 107983.36it/s]\n"
     ]
    }
   ],
   "source": [
    "#字型错误 charactor_relavant_shape_replace(sentence)\n",
    "path = './形近错别字.txt'\n",
    "result = read_json_txt(path)\n",
    "\n",
    "result_charactor_relavant_shape_replace = []\n",
    "\n",
    "for sentence in tqdm(result):\n",
    "    try:\n",
    "        change = {'通畅':sentence['text'],'不通畅':charactor_relavant_shape_replace(sentence['text'])}\n",
    "        result_charactor_relavant_shape_replace.append(change)\n",
    "    except:\n",
    "        continue\n",
    "\n",
    "import json\n",
    "with open('./形近错别字(处理完).txt', 'w', encoding='UTF-8') as f:\n",
    "    for i in tqdm(result_charactor_relavant_shape_replace):\n",
    "        f.write(json.dumps(i, ensure_ascii=False)+\"\\n\")"
   ]
  }
 ],
 "metadata": {
  "kernelspec": {
   "display_name": "forNLP",
   "language": "python",
   "name": "python3"
  },
  "language_info": {
   "codemirror_mode": {
    "name": "ipython",
    "version": 3
   },
   "file_extension": ".py",
   "mimetype": "text/x-python",
   "name": "python",
   "nbconvert_exporter": "python",
   "pygments_lexer": "ipython3",
   "version": "3.9.13"
  },
  "orig_nbformat": 4,
  "vscode": {
   "interpreter": {
    "hash": "e45c062ee6ef58689f67cc745e063cd638a323d915d7d66da845637f20c24efd"
   }
  }
 },
 "nbformat": 4,
 "nbformat_minor": 2
}
